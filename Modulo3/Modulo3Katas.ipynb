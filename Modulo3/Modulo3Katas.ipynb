{
 "cells": [
  {
   "cell_type": "markdown",
   "metadata": {},
   "source": [
    "Problema No. 1"
   ]
  },
  {
   "cell_type": "code",
   "execution_count": 7,
   "metadata": {},
   "outputs": [
    {
     "name": "stdout",
     "output_type": "stream",
     "text": [
      "Un asteroide se acerca, y viaja a una velocidad de: 49(km/s)\n"
     ]
    }
   ],
   "source": [
    "# Añadir el código necesario para crear una variable que guarde la velocidad del asteroide.\n",
    "asteroide = 49\n",
    "velocidad_limite = 25\n",
    "# Escribe una expresión de prueba para calcular si necesita una advertencia.\n",
    "# Agregue las instrucciones que se ejecutarán si la expresión de prueba es true o false.\n",
    "if asteroide > velocidad_limite:\n",
    "    print('Un asteroide se acerca, y viaja a una velocidad de: ' + str(asteroide) + '(km/s)')\n",
    "else:\n",
    "    print('El asteroide mantiene una velocidad fuera de peligro')"
   ]
  },
  {
   "cell_type": "markdown",
   "metadata": {},
   "source": [
    "Problema No. 2"
   ]
  },
  {
   "cell_type": "code",
   "execution_count": 14,
   "metadata": {},
   "outputs": [
    {
     "name": "stdout",
     "output_type": "stream",
     "text": [
      "Asteroide no visible\n"
     ]
    }
   ],
   "source": [
    "# Agrega el código para crear una variable para un asteroide que viaja a 19 km/s\n",
    "asteroide = 19\n",
    "velocidad_visible = 20\n",
    "# Escribe varias expresiones de prueba para determinar si puedes ver el rayo de luz desde la tierra\n",
    "# Agrega las instrucciones que se ejecutarán si las expresiones de prueba son True o False\n",
    "\n",
    "if asteroide > velocidad_visible:\n",
    "    print('Este asteroide lo puedes ver desde la tierra')\n",
    "elif asteroide ==  velocidad_visible:\n",
    "    print('Este asteroide lo puedes ver desde la tierra')\n",
    "else:\n",
    "    print('Asteroide no visible')"
   ]
  },
  {
   "cell_type": "markdown",
   "metadata": {},
   "source": [
    "Problema No. 3"
   ]
  },
  {
   "cell_type": "code",
   "execution_count": 19,
   "metadata": {},
   "outputs": [
    {
     "name": "stdout",
     "output_type": "stream",
     "text": [
      "Este asteroide lo puedes ver desde la tierra\n"
     ]
    }
   ],
   "source": [
    "# Agrega el código para crear nuevas variables para la velocidad y el tamaño del asteroide\n",
    "# Para probar el código, prueba con varias velocidades y tamaños\n",
    "# Escribe varias expresiones de prueba o combinaciones de expresiones de prueba para determinar qué mensaje se debe enviar a Tierra.\n",
    "velocidad_input  = input(\"Introduzca velocidad(km/s) de asteroide a evaluar \")\n",
    "tamanio_input = input(\"Introduzca tamaño(m) de asteroide a evaluar\")\n",
    "\n",
    "velocidad_asteroide = int(velocidad_input)\n",
    "tamanio_asteroide = int(tamanio_input)\n",
    "\n",
    "if velocidad_asteroide > 25 or (tamanio_asteroide > 25 and tamanio_asteroide < 1000):\n",
    "    print('¡Alerta, asteroide peligroso!')\n",
    "elif velocidad_asteroide >= 20:\n",
    "    print('Este asteroide lo puedes ver desde la tierra')\n",
    "elif tamanio_asteroide < 25 or velocidad_asteroide < 20:\n",
    "    print('Este asteroide no es peligroso')\n",
    "\n"
   ]
  }
 ],
 "metadata": {
  "interpreter": {
   "hash": "32d02dce0a12951fb29f29a0b7acc7ccf5314decd3421c66ee276c17c71b6daa"
  },
  "kernelspec": {
   "display_name": "Python 3.10.2 64-bit",
   "language": "python",
   "name": "python3"
  },
  "language_info": {
   "codemirror_mode": {
    "name": "ipython",
    "version": 3
   },
   "file_extension": ".py",
   "mimetype": "text/x-python",
   "name": "python",
   "nbconvert_exporter": "python",
   "pygments_lexer": "ipython3",
   "version": "3.10.2"
  },
  "orig_nbformat": 4
 },
 "nbformat": 4,
 "nbformat_minor": 2
}
